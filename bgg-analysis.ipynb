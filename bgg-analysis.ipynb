{
 "cells": [
  {
   "cell_type": "markdown",
   "metadata": {},
   "source": [
    "# What Makes a Great Board Game?\n",
    "\n",
    "## Introduction\n",
    "In this notebook, I will be exploring a dataset containing all board games and expansions showcased and rated in BoardGameGeek's website. I came across this dataset published by Gabriele Baldassarre on Kaggle, which you can find here: https://www.kaggle.com/gabrio/board-games-dataset\n",
    "\n",
    "I will be using the CRISP-DM process to conduct my exploratory analysis. "
   ]
  },
  {
   "cell_type": "markdown",
   "metadata": {},
   "source": [
    "## Business Understanding\n",
    "The goal of this analysis is to explore *what makes a great board game?* To do this, we will answer 3 business questions: \n",
    "1. What correlates to a board game's rating?\n",
    "2. How does the quality of a board game change based on it's complexity?\n",
    "3. Are complex board games considered popular? "
   ]
  },
  {
   "cell_type": "markdown",
   "metadata": {},
   "source": [
    "## Data Understanding\n",
    "\n",
    "### Loading the Data\n",
    "We will be using the pandas and matplotlib libraries to explore the data. We will also load the sqlite3 library to read the database and convert it into a pandas dataframe. "
   ]
  },
  {
   "cell_type": "code",
   "execution_count": null,
   "metadata": {},
   "outputs": [],
   "source": [
    "#Load the libraries\n",
    "\n",
    "import numpy as np \n",
    "import pandas as pd \n",
    "import sqlite3 # to read the database\n",
    "import matplotlib.pyplot as plt\n",
    "import seaborn as sns\n",
    "from sklearn.linear_model import LinearRegression\n",
    "%matplotlib inline"
   ]
  },
  {
   "cell_type": "code",
   "execution_count": null,
   "metadata": {
    "scrolled": false
   },
   "outputs": [],
   "source": [
    "#Load the Data\n",
    "conn = sqlite3.connect(r'C:\\Users\\mitra\\database.sqlite', uri=True)\n",
    "df = pd.read_sql_query(\"SELECT * FROM BoardGames\", conn)\n",
    "\n",
    "#Verify that the result of SQL query is stored as a pandas DataFrame\n",
    "df.head()"
   ]
  },
  {
   "cell_type": "code",
   "execution_count": null,
   "metadata": {},
   "outputs": [],
   "source": [
    "#View the shape of the original dataset\n",
    "print(df.shape)"
   ]
  },
  {
   "cell_type": "markdown",
   "metadata": {},
   "source": [
    "## Data Preperation\n",
    "The original dataset has over 90000 rows and 81 columns, that's definitely a lot! \n",
    "\n",
    "First, we are going to filter out board games and board game expansions that have 10 or less total ratings. This helps to clean the data as well as filter out homebrew content, variant gameplays and forgettable board games in general.  \n",
    "\n",
    "We will then remove the null values in our most important stat - the board game rating i.e. 'stats.average'. After that, we will remove the columns that are not necessary for our exploratory analysis as well as null columns. \n",
    "\n",
    "Particularly, we will filter out boardgame entries only and then remove the 'game.type' column, as we only want to explore board games and not their expansions. We can assume that the expansion is dependent on its original, and hence is a biased column. "
   ]
  },
  {
   "cell_type": "code",
   "execution_count": null,
   "metadata": {},
   "outputs": [],
   "source": [
    "#Remove the null ratings in the dataset\n",
    "cleaned_df = df[df['stats.average']> 0.0]\n",
    "#Remove the entries with 5 or less total user ratings\n",
    "cleaned_df = cleaned_df[cleaned_df['stats.usersrated']>10.0]\n",
    "#Filter the dataset to only contain board games\n",
    "cleaned_df = cleaned_df[cleaned_df['game.type']==boardgame]\n",
    "#Remove all the unnecessary columns and null columns \n",
    "cleaned_df = cleaned_df.drop(['row_names','details.description','details.image','details.thumbnail',\n",
    "                         'attributes.boardgamecompilation', 'attributes.boardgameexpansion', 'attributes.boardgamefamily',\n",
    "                          'attributes.boardgameimplementation', 'attributes.boardgameintegration', \n",
    "                          'polls.language_dependence', 'polls.suggested_numplayers.1',\n",
    "       'polls.suggested_numplayers.10', 'polls.suggested_numplayers.2',\n",
    "       'polls.suggested_numplayers.3', 'polls.suggested_numplayers.4',\n",
    "       'polls.suggested_numplayers.5', 'polls.suggested_numplayers.6',\n",
    "       'polls.suggested_numplayers.7', 'polls.suggested_numplayers.8',\n",
    "       'polls.suggested_numplayers.9', 'polls.suggested_numplayers.Over',\n",
    "       'polls.suggested_playerage', 'attributes.t.links.concat.2....',\n",
    "       'stats.family.amiga.bayesaverage', 'stats.family.amiga.pos',\n",
    "       'stats.family.arcade.bayesaverage', 'stats.family.arcade.pos',\n",
    "       'stats.family.atarist.bayesaverage', 'stats.family.atarist.pos',\n",
    "       'stats.family.commodore64.bayesaverage', 'stats.family.commodore64.pos',\n",
    "       'stats.subtype.rpgitem.bayesaverage', 'stats.subtype.rpgitem.pos',\n",
    "       'stats.subtype.videogame.bayesaverage', 'stats.subtype.videogame.pos', 'stats.numcomments',\n",
    "       'stats.numweights', 'stats.stddev',\n",
    "       'stats.subtype.boardgame.bayesaverage', 'stats.subtype.boardgame.pos',\n",
    "       'stats.trading', 'stats.wanting', 'stats.wishing', 'stats.family.abstracts.bayesaverage',\n",
    "                         'stats.family.abstracts.pos', 'stats.family.cgs.bayesaverage', 'stats.family.cgs.pos',\n",
    "                          'stats.family.childrensgames.bayesaverage' , 'stats.family.childrensgames.pos',\n",
    "                          'stats.family.familygames.bayesaverage','stats.family.familygames.pos',\n",
    "                          'stats.family.partygames.bayesaverage','stats.family.partygames.pos',\n",
    "                          'stats.family.strategygames.bayesaverage' , \n",
    "                          'stats.family.strategygames.pos','stats.family.thematic.bayesaverage',\n",
    "                          'stats.family.thematic.pos','stats.family.wargames.bayesaverage','stats.family.wargames.pos',\n",
    "                         'attributes.boardgameartist', 'stats.median', 'attributes.total', 'stats.bayesaverage', 'game.type'], axis = 1)\n",
    "cleaned_df.head()"
   ]
  },
  {
   "cell_type": "code",
   "execution_count": null,
   "metadata": {
    "scrolled": true
   },
   "outputs": [],
   "source": [
    "#View the shape of the cleaned dataset\n",
    "print(cleaned_df.shape)"
   ]
  },
  {
   "cell_type": "code",
   "execution_count": null,
   "metadata": {},
   "outputs": [],
   "source": [
    "#View the proportions of null values in the cleaned dataset \n",
    "cleaned_df.isnull().mean()"
   ]
  },
  {
   "cell_type": "markdown",
   "metadata": {},
   "source": [
    "Looking at the proportions of null values in the cleaned dataset, we can see that the attribute columns have the most null values (albeit not many), while the detail columns have very few missing values. On the other hand, the stats and game name columns have no missing values, which are ultimately our most important columns for this dataset. \n",
    "\n",
    "Therefore, we will not be dropping any more rows or columns from this dataset, but we will be imputing values for the details columns using the mode. As the attribute columns are strings, we will not be imputing or removing their missing values.\n",
    "\n",
    "We will also be renaming some columns for ease of analysis. "
   ]
  },
  {
   "cell_type": "code",
   "execution_count": null,
   "metadata": {},
   "outputs": [],
   "source": [
    "#Rename some columns for ease of analysis \n",
    "cleaned_df = cleaned_df.rename(columns = {\"stats.average\":\"average rating\", \"stats.averageweight\":\"game complexity\", \n",
    "                                          \"stats.owned\":\"total owners\", \"stats.usersrated\":\"total ratings\",\n",
    "                                         \"details.name\":\"game name\"})\n",
    "cleaned_df.head()"
   ]
  },
  {
   "cell_type": "code",
   "execution_count": null,
   "metadata": {},
   "outputs": [],
   "source": [
    "#Imputing missing values in the detail columns with their respective mode in each column \n",
    "cleaned_df['details.maxplayers'].fillna(cleaned_df['details.maxplayers'].mode()[0], inplace=True)\n",
    "cleaned_df['details.maxplaytime'].fillna(cleaned_df['details.maxplaytime'].mode()[0], inplace=True)\n",
    "cleaned_df['details.minage'].fillna(cleaned_df['details.minage'].mode()[0], inplace=True)\n",
    "cleaned_df['details.minplayers'].fillna(cleaned_df['details.minplayers'].mode()[0], inplace=True)\n",
    "cleaned_df['details.minplaytime'].fillna(cleaned_df['details.minplaytime'].mode()[0], inplace=True)\n",
    "cleaned_df['details.playingtime'].fillna(cleaned_df['details.playingtime'].mode()[0], inplace=True)\n",
    "cleaned_df['details.yearpublished'].fillna(cleaned_df['details.yearpublished'].mode()[0], inplace=True)\n",
    "cleaned_df.isnull().mean()"
   ]
  },
  {
   "cell_type": "markdown",
   "metadata": {},
   "source": [
    "## Introduction to the Data: The Reign of Board Games \n",
    "Before we delve further into the data's features and particular business questions, we are going to explore how board games and its popularity progressed over the last 50 years. We will also explore the average rating distribution of board games in this dataset."
   ]
  },
  {
   "cell_type": "code",
   "execution_count": null,
   "metadata": {
    "scrolled": true
   },
   "outputs": [],
   "source": [
    "#View the trend line graph of published board games over the last 50 years \n",
    "rslt_df = cleaned_df[cleaned_df['details.yearpublished']> 1959.0]\n",
    "rslt_df = rslt_df[rslt_df['details.yearpublished']<2016.0]\n",
    "timeline_df = rslt_df['details.yearpublished'].value_counts()\n",
    "timeline_df.plot(kind = 'line', color = 'purple', xlabel=\"Year\", ylabel=\"Total Board Games Published\", \n",
    "                      title = \"Published Board Games 1960-2016\");"
   ]
  },
  {
   "cell_type": "code",
   "execution_count": null,
   "metadata": {},
   "outputs": [],
   "source": [
    "#View the trend line graph of the average rating of published board games over the last 50 years \n",
    "rate_df = rslt_df.groupby('details.yearpublished').mean()['average rating']\n",
    "rate_df.plot(kind = 'line', color = 'purple', xlabel=\"Year\", ylabel=\"Average Rating of Board Games\", \n",
    "                      title = \"Average Rating of Board Games 1960-2016\");"
   ]
  },
  {
   "cell_type": "code",
   "execution_count": null,
   "metadata": {},
   "outputs": [],
   "source": [
    "#View the histogram of average board game ratings over the last 50 years\n",
    "fig, ax = plt.subplots(figsize=(5,5))\n",
    "rating_df = rslt_df['average rating']\n",
    "rating_df.plot(kind = 'hist', alpha=0.5, bins=20, color = 'purple', title = 'Histogram of Board Game Ratings');"
   ]
  },
  {
   "cell_type": "markdown",
   "metadata": {},
   "source": [
    "## 1. What Correlates to a Board Game's Rating? \n",
    "In this section, we will explore a correlation heatmap that looks into the features of this dataset and how they are correlated. We particularly want to look at the average rating feature, but also analyse other striking visuals in this plot. \n",
    "\n",
    "In this case, we filter the dataset to have more than a 100 ratings in total. This is to create a more unbiased sample, as some of these columns are estimated entries inputted by the BoardGameGeek community. "
   ]
  },
  {
   "cell_type": "code",
   "execution_count": null,
   "metadata": {},
   "outputs": [],
   "source": [
    "corr_df = cleaned_df[cleaned_df['total ratings']> 100.0]\n",
    "corr = corr_df.corr()\n",
    "fig, ax = plt.subplots(figsize=(10,10))\n",
    "ax = sns.heatmap(\n",
    "    corr, \n",
    "    vmin=0, vmax=1, center=0.5,\n",
    "    cmap=\"YlGnBu\",\n",
    "    square=True, annot = True\n",
    ")\n",
    "ax.set_xticklabels(\n",
    "    ax.get_xticklabels(),\n",
    "    rotation=45,\n",
    "    horizontalalignment='right'\n",
    ");"
   ]
  },
  {
   "cell_type": "markdown",
   "metadata": {},
   "source": [
    "## 2. How Does a Game's Complexity Affect its Rating? \n",
    "Based on the findings from the previous section, we will now explore the average rating of games based on their respective complexity through a scatter plot.\n",
    "\n",
    "We will filter out board games that do not have a complexity score tied to them, as this is most probably caused by an absense of information on the website itself. "
   ]
  },
  {
   "cell_type": "code",
   "execution_count": null,
   "metadata": {},
   "outputs": [],
   "source": [
    "#View the scatter plot of the average ratings of board games against their respective complexity score.\n",
    "complex_df = cleaned_df[cleaned_df['game complexity']> 0.0]\n",
    "complexity_df.plot(kind = 'scatter', x='game complexity', y='average rating', color = 'purple',\n",
    "                title = \"Scatter Plot of Board Games According to Complexity and Rating\");\n"
   ]
  },
  {
   "cell_type": "markdown",
   "metadata": {},
   "source": [
    "## 3. Is a Complex Game Considered Popular? \n",
    "We have seen a high correlation in the complexity of a board game towards the average rating, and we have seen a slight correlation in the total number of owners towards the average rating. \n",
    "\n",
    "In our final question, we will explore if a popular game is a highly rated game or not, and what the correlation is between complexity and popularity. Do they go hand in hand in making a great board game? Or does one feature triumph over the other in importance? \n",
    "\n",
    "In this section, we will be creating a new calculation to measure popularity, which is: (Average Rating)x(Total Ratings). This gives us the popularity score which we will explore with game complexity. "
   ]
  },
  {
   "cell_type": "code",
   "execution_count": null,
   "metadata": {},
   "outputs": [],
   "source": [
    "#Create a new column called 'popularity score \n",
    "cleaned_df['popularity score'] = cleaned_df['average rating'] * cleaned_df['total ratings']\n",
    "cleaned_df.head()"
   ]
  },
  {
   "cell_type": "code",
   "execution_count": null,
   "metadata": {},
   "outputs": [],
   "source": [
    "#Create a scatter plot on complexity versus popularity\n",
    "pop_df = cleaned_df[cleaned_df['game complexity']> 0.0]\n",
    "pop_df = pop_df[pop_df['total ratings']>100]\n",
    "pop_df.plot(kind = 'scatter', x='game complexity', y='popularity score',\n",
    "                title = \"Scatter Plot of Game Complexity versus Game Popularity\");"
   ]
  }
 ],
 "metadata": {
  "kernelspec": {
   "display_name": "Python 3",
   "language": "python",
   "name": "python3"
  },
  "language_info": {
   "codemirror_mode": {
    "name": "ipython",
    "version": 3
   },
   "file_extension": ".py",
   "mimetype": "text/x-python",
   "name": "python",
   "nbconvert_exporter": "python",
   "pygments_lexer": "ipython3",
   "version": "3.8.5"
  }
 },
 "nbformat": 4,
 "nbformat_minor": 4
}
